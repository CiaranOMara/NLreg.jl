{
 "cells": [
  {
   "cell_type": "markdown",
   "metadata": {},
   "source": [
    "# Nonlinear mixed-effects models in Julia\n",
    "\n",
    "## Linear mixed-effects models\n",
    "\n",
    "A linear mixed-effects model is characterized by the distribution of\n",
    "two vector-valued random variables: the $n$-dimensional response, $Y$,\n",
    "and the $q$-dimensional random effects vector, $B$.  The unconditional\n",
    "distribution of $B$ is multivariate normal\n",
    "$$\n",
    "    B\\sim N(0,\\Sigma_\\theta)\n",
    "$$\n",
    "as is the conditional distribution of $Y$ given $B=b$\n",
    "$$\n",
    "    (Y|B=b)\\sim N(X\\beta+Zb, \\sigma^2 I)\n",
    "$$\n",
    "\n",
    "In the [MixedModels](https://github.com/dmbates/MixedModels) package for \n",
    "[Julia](http://julialang.org) we represent the covariance matrix in the unconditional distribution of $B$ as\n",
    "$$\n",
    "    \\Sigma_\\theta=\\sigma^2\\Lambda_\\theta\\Lambda_\\theta'\n",
    "$$\n",
    "where $\\Lambda_\\theta$ is the $q\\times q$ _relative covariance factor_.\n",
    "\n",
    "For given values of $\\theta$ and $\\beta$ we solve a penalized linear least squares problem of the form\n",
    "$$\n",
    "    r^2_{\\beta,\\theta}=\\min_u \\|(y-X\\beta)-Z\\Lambda_\\theta u\\|^2 + \\|u\\|^2\n",
    "$$\n",
    "for which we compute the sparse Cholesky factorization\n",
    "$$\n",
    "    L_\\theta L_\\theta' = \\Lambda_\\theta'Z'Z\\Lambda_\\theta + I\n",
    "$$\n",
    "where $L_\\theta$ is a lower-triangular sparse matrix.\n",
    "Because $L_\\theta$ is triangular, we can easily evaluate its determinant as the product of its diagonal elements.\n",
    "By construction these diagonal elements are positive and the log-determinant, $\\log(|\\Lambda_\\theta'Z'Z\\Lambda_\\theta + I|)=2\\log(|L_\\theta|)$ is easily evaluated.\n",
    "\n",
    "The log-likelihood for a linear mixed-effects model, $\\ell(\\beta,\\theta|y)$, can be expressed as\n",
    "$$\n",
    "    -2\\ell(\\beta,\\theta|y) = \\log(|\\Lambda_\\theta'Z'Z\\Lambda_\\theta + I|)+n\\left[1+\\log\\left(\\frac{2\\pi r^2_{\\beta,\\theta}}{n}\\right)\\right]\n",
    "$$\n",
    "\n",
    "## Nonlinear mixed-effects models\n",
    "\n",
    "The formulation of a nonlinear mixed-effects model (NLMM) is nearly the same as that of an LMM except that the mean of the conditional distribution $Y|B=b$ is a nonlinear function of the parameters $\\beta$ and the random effects, $b$ or, equivalently, the _spherical_ random effects $u$ where $b=\\Lambda_\\theta u$.\n",
    "\n",
    "The nonlinear model function, $f$, is a function of a $k$-dimensional model parameter, $\\phi$ and covariates. In our formulation we write the `vec` of the $n\\times k$ _model parameter matrix_, $\\Phi$ as a linear predictor\n",
    "$$\n",
    "    vec(\\Phi)=X\\beta+Z\\Lambda_\\theta u\n",
    "$$\n",
    "and evaluate\n",
    "$$\n",
    "    \\mu_{Y|U=u}=f(T,\\Phi)\n",
    "$$\n",
    "where $T$ is a matrix of covariate values, _time_ in the case of a population pharmacokinetic model.\n",
    "\n",
    "The penalized linear least squares (PLS) problem solved for each evaluation of the objective in the case of a linear mixed-effects model is replaced by a penalized nonlinear least squares (PNLS) problem\n",
    "$$\n",
    "    r^2_{\\beta,\\theta}=\\min_u \\|y-\\mu_{Y|U=u}\\|^2+\\|u\\|^2\n",
    "$$\n",
    "in an NLMM.  \n",
    "The optimizer, $\\tilde{u}=\\arg\\min_u r^2_{\\beta,\\theta}$, is the _mode_ of the distribution of $U$ given $Y=y$ and the current values of the parameters, $\\beta$ and $\\theta$.\n",
    "\n",
    "In general there will not be a closed-form expression for the log-likelihood.  However, the _Laplace approximation_ to the log-likelihood is exactly the same expression as the log-likelihood for an LMM. The Laplace approximation is equivalent to a one-point adaptive Gauss-Hermite approximation to the integral that defines the log-likelihood.  This approximation is _adaptive_ in the sense that the Gauss-Hermite approximation is taken at the mode of the conditional distribution, not at the mean of the unconditional distribution.\n",
    "\n",
    "## A simple example - first-order kinetics, 1 compartment, single bolus unit dose\n",
    "\n",
    "One of the simplest pharmacokinetics models is that for a one compartment model with a single bolus dose.\n",
    "The predicted concentration at time $t$ is given by\n",
    "$$\n",
    "        c(t)=V\\exp(-Kt)\n",
    "$$\n",
    "where V is the volume of distribution and K is the elimination rate constant.\n",
    "\n",
    "## Fitting the model\n",
    "\n",
    "Simulated data from a one compartment model with a single bolus dose are provided in a compressed `csv` file in the `data` directory of the `NLreg` package.  We read these data as a `DataFrame` object."
   ]
  },
  {
   "cell_type": "code",
   "execution_count": 2,
   "metadata": {},
   "outputs": [],
   "source": [
    "using CSV, DataFrames, LinearAlgebra, NLreg\n",
    "const datadir = normpath(joinpath(dirname(pathof(NLreg)), \"..\", \"data\"));"
   ]
  },
  {
   "cell_type": "code",
   "execution_count": 3,
   "metadata": {},
   "outputs": [
    {
     "data": {
      "text/html": [
       "<table class=\"data-frame\"><thead><tr><th></th><th>variable</th><th>mean</th><th>min</th><th>median</th><th>max</th><th>nunique</th><th>nmissing</th><th>eltype</th></tr><tr><th></th><th>Symbol</th><th>Union…</th><th>Any</th><th>Union…</th><th>Any</th><th>Union…</th><th>Nothing</th><th>DataType</th></tr></thead><tbody><p>3 rows × 8 columns</p><tr><th>1</th><td>id</td><td></td><td>S001</td><td></td><td>S200</td><td>200</td><td></td><td>String</td></tr><tr><th>2</th><td>time</td><td>3.89914</td><td>0.5</td><td>4.0</td><td>9.0</td><td></td><td></td><td>Float64</td></tr><tr><th>3</th><td>conc</td><td>0.541184</td><td>0.0012369</td><td>0.35909</td><td>3.4862</td><td></td><td></td><td>Float64</td></tr></tbody></table>"
      ],
      "text/latex": [
       "\\begin{tabular}{r|cccccccc}\n",
       "\t& variable & mean & min & median & max & nunique & nmissing & eltype\\\\\n",
       "\t\\hline\n",
       "\t& Symbol & Union… & Any & Union… & Any & Union… & Nothing & DataType\\\\\n",
       "\t\\hline\n",
       "\t1 & id &  & S001 &  & S200 & 200 &  & String \\\\\n",
       "\t2 & time & 3.89914 & 0.5 & 4.0 & 9.0 &  &  & Float64 \\\\\n",
       "\t3 & conc & 0.541184 & 0.0012369 & 0.35909 & 3.4862 &  &  & Float64 \\\\\n",
       "\\end{tabular}\n"
      ],
      "text/plain": [
       "3×8 DataFrame. Omitted printing of 2 columns\n",
       "│ Row │ variable │ mean     │ min       │ median  │ max    │ nunique │\n",
       "│     │ \u001b[90mSymbol\u001b[39m   │ \u001b[90mUnion…\u001b[39m   │ \u001b[90mAny\u001b[39m       │ \u001b[90mUnion…\u001b[39m  │ \u001b[90mAny\u001b[39m    │ \u001b[90mUnion…\u001b[39m  │\n",
       "├─────┼──────────┼──────────┼───────────┼─────────┼────────┼─────────┤\n",
       "│ 1   │ id       │          │ S001      │         │ S200   │ 200     │\n",
       "│ 2   │ time     │ 3.89914  │ 0.5       │ 4.0     │ 9.0    │         │\n",
       "│ 3   │ conc     │ 0.541184 │ 0.0012369 │ 0.35909 │ 3.4862 │         │"
      ]
     },
     "execution_count": 3,
     "metadata": {},
     "output_type": "execute_result"
    }
   ],
   "source": [
    "sd1 = CSV.read(joinpath(datadir, \"sd1.csv\"));\n",
    "describe(sd1)"
   ]
  },
  {
   "cell_type": "markdown",
   "metadata": {},
   "source": [
    "To fit all the data, without taking the different subjects into account, with parameters representing `log(V)` and `log(K)`, use a `NLregModel`.\n",
    "The first argument is a function of parameters, `p`, and a data table (in the sense of the [`Tables` package](https://github.com/JuliaData/Tables.jl) ), `d`, that evaluates the mean response vector.  Usually the expression to evaluate the response is a call to the `@.` macro for implicit broadcasting.  The [`ForwardDiff` package](https://github.com/JuliaDiff/ForwardDiff.jl) is used with this function to evaluate the Jacobian matrix along with the mean response.  Subsequent arguments are the data, starting values for the parameters, as a `NamedTuple`, and a symbol giving the name of the response column in the data table."
   ]
  },
  {
   "cell_type": "code",
   "execution_count": 4,
   "metadata": {},
   "outputs": [
    {
     "name": "stdout",
     "output_type": "stream",
     "text": [
      "(cvg, oldrss, φ) = (0.7185936303492759, 229.6957043513567, [-1.0, -1.0])\n",
      "(cvg, oldrss, φ) = (0.12007347686490066, 112.30911051106428, [0.021532292080037818, -1.6643720635642465])\n",
      "(cvg, oldrss, φ) = (0.011649172168248697, 110.61229713814498, [0.12519084059271413, -1.4041640998848468])\n",
      "(cvg, oldrss, φ) = (4.984323753092575e-5, 110.59728661059417, [0.13364076029214383, -1.4037274383268128])\n",
      "(cvg, oldrss, φ) = (7.782713197783087e-7, 110.59728633478112, [0.13361607107919604, -1.403703244658451])\n"
     ]
    },
    {
     "data": {
      "text/plain": [
       "Nonlinear regression model (NLregModel)\n",
       "\n",
       " Residual sum of squares: 110.59728633478112\n",
       "\n",
       "─────────────────────────────────\n",
       "     Estimate  Std.Error  t value\n",
       "─────────────────────────────────\n",
       "lV   0.133616  0.043366      3.08\n",
       "lK  -1.4037    0.0823868   -17.04\n",
       "─────────────────────────────────\n"
      ]
     },
     "execution_count": 4,
     "metadata": {},
     "output_type": "execute_result"
    }
   ],
   "source": [
    "mfixed = fit!(NLregModel((p,d) -> @.(exp(p[1] - exp(p[2])*d.time)), sd1, (lV = -1.0, lK = -1.0), :conc), verbose=true)"
   ]
  },
  {
   "cell_type": "markdown",
   "metadata": {},
   "source": [
    "The parameter estimates from this fit provide starting estimates for the fixed-effects in a nonlinear mixed-effects model"
   ]
  },
  {
   "cell_type": "code",
   "execution_count": 5,
   "metadata": {},
   "outputs": [],
   "source": [
    "mmixed = NLmixedModel((p,d) -> @.(exp(p[1] - exp(p[2])*d.time)), groupby(sd1, :id), :conc, params(mfixed));"
   ]
  },
  {
   "cell_type": "markdown",
   "metadata": {},
   "source": [
    "The relative covariance factor, $\\lambda$, has been initialized to the identity."
   ]
  },
  {
   "cell_type": "code",
   "execution_count": 6,
   "metadata": {},
   "outputs": [
    {
     "data": {
      "text/plain": [
       "2×2 LowerTriangular{Float64,Array{Float64,2}}:\n",
       " 1.0   ⋅ \n",
       " 0.0  1.0"
      ]
     },
     "execution_count": 6,
     "metadata": {},
     "output_type": "execute_result"
    }
   ],
   "source": [
    "mmixed.λ"
   ]
  },
  {
   "cell_type": "markdown",
   "metadata": {},
   "source": [
    "corresponding to a $\\theta$ parameter of"
   ]
  },
  {
   "cell_type": "code",
   "execution_count": 7,
   "metadata": {},
   "outputs": [
    {
     "data": {
      "text/plain": [
       "3-element Array{Float64,1}:\n",
       " 1.0\n",
       " 0.0\n",
       " 1.0"
      ]
     },
     "execution_count": 7,
     "metadata": {},
     "output_type": "execute_result"
    }
   ],
   "source": [
    "mmixed.θ"
   ]
  },
  {
   "cell_type": "markdown",
   "metadata": {},
   "source": [
    "The _penalized nonlinear least squares_ (pnls) algorithm minimizes $\\|y-\\eta(\\varphi,\\mathbf{u})\\|^2 + \\|\\mathbf{u}\\|^2$ with respect to $\\varphi$ and $\\mathbf{u}$"
   ]
  },
  {
   "cell_type": "code",
   "execution_count": 8,
   "metadata": {},
   "outputs": [
    {
     "name": "stdout",
     "output_type": "stream",
     "text": [
      "(cvg, oldprss, φ) = (0.9464185875221391, 110.59728633478106, [0.13361607107919604, -1.403703244658451])\n",
      "(cvg, oldprss, φ) = (0.06269475212675366, 49.76367117639907, [0.1369620839731903, -1.3992244104924974])\n",
      "(cvg, oldprss, φ) = (0.0017953893023616664, 46.88563589804223, [0.20151422964846882, -1.2907798896696423])\n",
      "(cvg, oldprss, φ) = (0.00010908198566120474, 46.809751770025066, [0.19641569400621764, -1.2921697813893755])\n",
      "(cvg, oldprss, φ) = (1.2708227190782454e-5, 46.805894799807554, [0.2014658183448791, -1.2845690897110407])\n",
      "(cvg, oldprss, φ) = (1.8019353728133105e-6, 46.80549294111189, [0.20077963436467372, -1.28505476179701])\n",
      "(cvg, oldprss, φ) = (2.89456177375038e-7, 46.80544004206064, [0.201254067082151, -1.2843255022306415])\n",
      "(cvg, oldprss, φ) = (4.9315424647577386e-8, 46.80543190558488, [0.2011566070226851, -1.284438098063897])\n",
      "(cvg, oldprss, φ) = (8.733079296364763e-9, 46.80543055401347, [0.201209801488745, -1.2843517998025566])\n",
      "(cvg, oldprss, φ) = (1.5739730522205883e-9, 46.805430317609286, [0.20119505402621474, -1.2843736181607683])\n",
      "(cvg, oldprss, φ) = (2.8672261134623625e-10, 46.80543027528198, [0.20120208716356897, -1.2843615122004173])\n"
     ]
    }
   ],
   "source": [
    "pnls!(mmixed, verbose=true);"
   ]
  },
  {
   "cell_type": "markdown",
   "metadata": {},
   "source": [
    "At the minimum, the Laplace approximation to negative twice the log-likelihood is"
   ]
  },
  {
   "cell_type": "code",
   "execution_count": 9,
   "metadata": {},
   "outputs": [
    {
     "data": {
      "text/plain": [
       "394.6577176584259"
      ]
     },
     "execution_count": 9,
     "metadata": {},
     "output_type": "execute_result"
    }
   ],
   "source": [
    "objective(mmixed)"
   ]
  },
  {
   "cell_type": "markdown",
   "metadata": {},
   "source": [
    "and the conditional modes of the spherical random effects are"
   ]
  },
  {
   "cell_type": "code",
   "execution_count": 10,
   "metadata": {},
   "outputs": [
    {
     "data": {
      "text/plain": [
       "2×200 Array{Float64,2}:\n",
       " -0.293802   -0.101465   -0.160315   …   0.0643369  -0.318807  -0.119347 \n",
       "  0.0977617   0.0282295   0.0670755     -0.131454    0.175484   0.0915935"
      ]
     },
     "execution_count": 10,
     "metadata": {},
     "output_type": "execute_result"
    }
   ],
   "source": [
    "mmixed.u"
   ]
  },
  {
   "cell_type": "markdown",
   "metadata": {},
   "source": [
    "The objective is evaluated just as for the linear mixed-effects model\n",
    "$$\n",
    "    -2\\ell(\\theta|y) = \\log(|\\Lambda_\\theta'Z'Z\\Lambda_\\theta + I|)+n\\left[1+\\log\\left(\\frac{2\\pi r^2_{\\theta}}{n}\\right)\\right]\n",
    "$$\n",
    "where the first term, the logarithm of the determinant, whose value is"
   ]
  },
  {
   "cell_type": "code",
   "execution_count": 11,
   "metadata": {},
   "outputs": [
    {
     "data": {
      "text/plain": [
       "208.5657672146824"
      ]
     },
     "execution_count": 11,
     "metadata": {},
     "output_type": "execute_result"
    }
   ],
   "source": [
    "logdet(mmixed)"
   ]
  },
  {
   "cell_type": "markdown",
   "metadata": {},
   "source": [
    "is evaluated from the Cholesky factor of $\\Lambda_\\theta'Z'Z\\Lambda_\\theta + I$.\n",
    "This is a block-diagonal positive-definite symmetric matrix consisting of 200 diagonal blocks of size $2\\times2$.\n",
    "The lower Cholesky factors of each block are in the `L11` field of the `NLmixedModel` object."
   ]
  },
  {
   "cell_type": "code",
   "execution_count": 12,
   "metadata": {},
   "outputs": [
    {
     "data": {
      "text/plain": [
       "Array{Array{Float64,2},1}"
      ]
     },
     "execution_count": 12,
     "metadata": {},
     "output_type": "execute_result"
    }
   ],
   "source": [
    "typeof(mmixed.L11)"
   ]
  },
  {
   "cell_type": "code",
   "execution_count": 13,
   "metadata": {},
   "outputs": [
    {
     "data": {
      "text/plain": [
       "2×2 LowerTriangular{Float64,Array{Float64,2}}:\n",
       "  1.31741    ⋅     \n",
       " -0.263603  1.07487"
      ]
     },
     "execution_count": 13,
     "metadata": {},
     "output_type": "execute_result"
    }
   ],
   "source": [
    "LowerTriangular(first(mmixed.L11))"
   ]
  },
  {
   "cell_type": "markdown",
   "metadata": {},
   "source": [
    "Now all that is needed is to optimize the objective with respect to $\\theta$ subject to the constraint that the elements of $\\theta$ corresponding to diagonal\n",
    "elements of $\\lambda$ are non-negative."
   ]
  },
  {
   "cell_type": "code",
   "execution_count": 14,
   "metadata": {},
   "outputs": [
    {
     "data": {
      "text/plain": [
       "(185.79025122840824, [3.5223248474429947, -0.22893688140116186, 2.836161273379503], :ROUNDOFF_LIMITED)"
      ]
     },
     "execution_count": 14,
     "metadata": {},
     "output_type": "execute_result"
    }
   ],
   "source": [
    "using NLopt\n",
    "opt = NLopt.Opt(:LN_BOBYQA, 3)\n",
    "min_objective!(opt, (x, g) -> objective(pnls!(NLreg.setθ!(mmixed, x))))\n",
    "lower_bounds!(opt, [0.0, -Inf, 0.0])\n",
    "optf, optx, ret = optimize(opt, [1.0, 0.0, 1.0])"
   ]
  },
  {
   "cell_type": "markdown",
   "metadata": {},
   "source": [
    "The estimate of the fixed-effects parameter is"
   ]
  },
  {
   "cell_type": "code",
   "execution_count": 15,
   "metadata": {},
   "outputs": [
    {
     "data": {
      "text/plain": [
       "2-element Array{Float64,1}:\n",
       "  0.079226478961321 \n",
       " -1.2731020331580518"
      ]
     },
     "execution_count": 15,
     "metadata": {},
     "output_type": "execute_result"
    }
   ],
   "source": [
    "mmixed.φ"
   ]
  },
  {
   "cell_type": "markdown",
   "metadata": {},
   "source": [
    "The conditional mode of the \"spherical\" random effects is"
   ]
  },
  {
   "cell_type": "code",
   "execution_count": 16,
   "metadata": {},
   "outputs": [
    {
     "data": {
      "text/plain": [
       "2×200 Array{Float64,2}:\n",
       " -0.163124   -0.051526   -0.0529521  …   0.0462964  -0.16779    -0.0464034\n",
       " -0.0140483  -0.0289852   0.0380786     -0.122477    0.0962269   0.060299 "
      ]
     },
     "execution_count": 16,
     "metadata": {},
     "output_type": "execute_result"
    }
   ],
   "source": [
    "mmixed.u"
   ]
  },
  {
   "cell_type": "markdown",
   "metadata": {},
   "source": [
    "or, on the original scale of `log(V)` and `log(K)`"
   ]
  },
  {
   "cell_type": "code",
   "execution_count": 17,
   "metadata": {},
   "outputs": [
    {
     "data": {
      "text/plain": [
       "2×200 Array{Float64,2}:\n",
       " -0.574575    -0.181491   -0.186515  …   0.163071  -0.59101   -0.163448\n",
       " -0.00249822  -0.0704106   0.12012      -0.357965   0.311328   0.181641"
      ]
     },
     "execution_count": 17,
     "metadata": {},
     "output_type": "execute_result"
    }
   ],
   "source": [
    "mmixed.λ * mmixed.u"
   ]
  },
  {
   "cell_type": "markdown",
   "metadata": {},
   "source": [
    "The estimate, $\\hat{\\sigma}$ of the standard deviation of the per-observation error is"
   ]
  },
  {
   "cell_type": "code",
   "execution_count": 18,
   "metadata": {},
   "outputs": [
    {
     "data": {
      "text/plain": [
       "0.16089136749363414"
      ]
     },
     "execution_count": 18,
     "metadata": {},
     "output_type": "execute_result"
    }
   ],
   "source": [
    "dispersion(mmixed)"
   ]
  },
  {
   "cell_type": "markdown",
   "metadata": {},
   "source": [
    "which is the penalized residual sum of squares divided by the number of observations.\n",
    "\n",
    "To evaluate the standard deviations of the within-subject random effects, it helps first to evaluate the row lengths of $\\lambda$"
   ]
  },
  {
   "cell_type": "code",
   "execution_count": 19,
   "metadata": {},
   "outputs": [
    {
     "data": {
      "text/plain": [
       "2-element Array{Float64,1}:\n",
       " 3.5223248474429947\n",
       " 2.8453862416697198"
      ]
     },
     "execution_count": 19,
     "metadata": {},
     "output_type": "execute_result"
    }
   ],
   "source": [
    "rowlengths = [norm(view(mmixed.λ, i, 1:i)) for i in 1:size(mmixed.λ, 1)]"
   ]
  },
  {
   "cell_type": "markdown",
   "metadata": {},
   "source": [
    "From this vector the estimated standard deviations of the random effects are evaluated as"
   ]
  },
  {
   "cell_type": "code",
   "execution_count": 20,
   "metadata": {},
   "outputs": [
    {
     "data": {
      "text/plain": [
       "2-element Array{Float64,1}:\n",
       " 0.5667116614619097\n",
       " 0.4577980834698134"
      ]
     },
     "execution_count": 20,
     "metadata": {},
     "output_type": "execute_result"
    }
   ],
   "source": [
    "dispersion(mmixed) .* rowlengths"
   ]
  },
  {
   "cell_type": "markdown",
   "metadata": {},
   "source": [
    "and the within-subject correlation matrix as"
   ]
  },
  {
   "cell_type": "code",
   "execution_count": 21,
   "metadata": {},
   "outputs": [
    {
     "data": {
      "text/plain": [
       "2×2 Array{Float64,2}:\n",
       "  1.0       -0.080459\n",
       " -0.080459   1.0     "
      ]
     },
     "execution_count": 21,
     "metadata": {},
     "output_type": "execute_result"
    }
   ],
   "source": [
    "rhofac = ldiv!(Diagonal(rowlengths), copy(mmixed.λ));\n",
    "rhofac * rhofac'"
   ]
  },
  {
   "cell_type": "markdown",
   "metadata": {},
   "source": [
    "## Examples from chapter 8 of Pinheiro and Bates (Springer, 2000)"
   ]
  },
  {
   "cell_type": "markdown",
   "metadata": {},
   "source": [
    "### Orange Tree Growth"
   ]
  },
  {
   "cell_type": "code",
   "execution_count": 22,
   "metadata": {},
   "outputs": [
    {
     "data": {
      "text/html": [
       "<table class=\"data-frame\"><thead><tr><th></th><th>variable</th><th>mean</th><th>min</th><th>median</th><th>max</th><th>nunique</th><th>nmissing</th><th>eltype</th></tr><tr><th></th><th>Symbol</th><th>Union…</th><th>Any</th><th>Union…</th><th>Any</th><th>Union…</th><th>Nothing</th><th>DataType</th></tr></thead><tbody><p>3 rows × 8 columns</p><tr><th>1</th><td>tree</td><td></td><td>T1</td><td></td><td>T5</td><td>5</td><td></td><td>String</td></tr><tr><th>2</th><td>age</td><td>922.143</td><td>118.0</td><td>1004.0</td><td>1582.0</td><td></td><td></td><td>Float64</td></tr><tr><th>3</th><td>circumference</td><td>115.857</td><td>30.0</td><td>115.0</td><td>214.0</td><td></td><td></td><td>Float64</td></tr></tbody></table>"
      ],
      "text/latex": [
       "\\begin{tabular}{r|cccccccc}\n",
       "\t& variable & mean & min & median & max & nunique & nmissing & eltype\\\\\n",
       "\t\\hline\n",
       "\t& Symbol & Union… & Any & Union… & Any & Union… & Nothing & DataType\\\\\n",
       "\t\\hline\n",
       "\t1 & tree &  & T1 &  & T5 & 5 &  & String \\\\\n",
       "\t2 & age & 922.143 & 118.0 & 1004.0 & 1582.0 &  &  & Float64 \\\\\n",
       "\t3 & circumference & 115.857 & 30.0 & 115.0 & 214.0 &  &  & Float64 \\\\\n",
       "\\end{tabular}\n"
      ],
      "text/plain": [
       "3×8 DataFrame. Omitted printing of 1 columns\n",
       "│ Row │ variable      │ mean    │ min   │ median │ max    │ nunique │ nmissing │\n",
       "│     │ \u001b[90mSymbol\u001b[39m        │ \u001b[90mUnion…\u001b[39m  │ \u001b[90mAny\u001b[39m   │ \u001b[90mUnion…\u001b[39m │ \u001b[90mAny\u001b[39m    │ \u001b[90mUnion…\u001b[39m  │ \u001b[90mNothing\u001b[39m  │\n",
       "├─────┼───────────────┼─────────┼───────┼────────┼────────┼─────────┼──────────┤\n",
       "│ 1   │ tree          │         │ T1    │        │ T5     │ 5       │          │\n",
       "│ 2   │ age           │ 922.143 │ 118.0 │ 1004.0 │ 1582.0 │         │          │\n",
       "│ 3   │ circumference │ 115.857 │ 30.0  │ 115.0  │ 214.0  │         │          │"
      ]
     },
     "execution_count": 22,
     "metadata": {},
     "output_type": "execute_result"
    }
   ],
   "source": [
    "Orange = CSV.read(joinpath(datadir, \"Orange.csv\"));\n",
    "describe(Orange)"
   ]
  },
  {
   "cell_type": "markdown",
   "metadata": {},
   "source": [
    "Define the logistic growth model in terms of three parameters, `Asym`, the upper asymptote, `xmid`, the `x` value at which the predicted response is `Asym/2`, and `scal`, the horizontal scale factor.  See appendix C.7 and Figure C.7, p. 519."
   ]
  },
  {
   "cell_type": "code",
   "execution_count": 23,
   "metadata": {},
   "outputs": [],
   "source": [
    "logisgrowth(p, d) = @.(p[1]/(1+exp(-(d.age - p[2]) / p[3])));"
   ]
  },
  {
   "cell_type": "code",
   "execution_count": 24,
   "metadata": {},
   "outputs": [
    {
     "name": "stdout",
     "output_type": "stream",
     "text": [
      "(cvg, oldrss, φ) = (0.3180264427223918, 19447.214945911193, [200.0, 700.0, 350.0])\n",
      "(cvg, oldrss, φ) = (0.005131657142795473, 17480.694137576265, [192.55512163222824, 726.9341243980331, 353.33466236771443])\n",
      "(cvg, oldrss, φ) = (5.706203420504341e-5, 17480.233568919328, [192.68126148038633, 728.7275476881084, 353.5063185097269])\n",
      "(cvg, oldrss, φ) = (2.8865929273658546e-6, 17480.23350919397, [192.68726772555488, 728.7547583488711, 353.53228967473086])\n"
     ]
    },
    {
     "data": {
      "text/plain": [
       "Nonlinear regression model (NLregModel)\n",
       "\n",
       " Residual sum of squares: 17480.23350919397\n",
       "\n",
       "──────────────────────────────────\n",
       "      Estimate  Std.Error  t value\n",
       "──────────────────────────────────\n",
       "Asym   192.687    20.2439     9.52\n",
       "xmid   728.755   107.297      6.79\n",
       "scal   353.532    81.4714     4.34\n",
       "──────────────────────────────────\n"
      ]
     },
     "execution_count": 24,
     "metadata": {},
     "output_type": "execute_result"
    }
   ],
   "source": [
    "ofixed = fit!(NLregModel(logisgrowth, Orange, (Asym = 200., xmid = 700., scal = 350.), :circumference), verbose=true)"
   ]
  },
  {
   "cell_type": "code",
   "execution_count": 25,
   "metadata": {},
   "outputs": [
    {
     "name": "stdout",
     "output_type": "stream",
     "text": [
      "(cvg, oldprss, φ) = (2.1110236844753305, 17480.23350919397, [192.68726772555488, 728.7547583488711, 353.53228967473086])\n",
      "(cvg, oldprss, φ) = (0.027285112273739223, 5617.006499257276, [192.68757523908965, 728.7562998347742, 353.5335943247664])\n",
      "(cvg, oldprss, φ) = (0.003310385482357307, 5505.013392969411, [182.9684635235851, 679.0250970245471, 313.89186266975423])\n",
      "(cvg, oldprss, φ) = (9.041043807996186e-5, 5489.554604018819, [185.41825878680675, 691.8587989437445, 322.5103952153069])\n",
      "(cvg, oldprss, φ) = (3.619144328782728e-6, 5489.151043789456, [185.11314444262763, 690.2459081644697, 320.7836863383409])\n",
      "(cvg, oldprss, φ) = (1.4442929685751778e-7, 5489.135129541503, [185.19165480944366, 690.6636715506445, 321.1397248434211])\n",
      "(cvg, oldprss, φ) = (5.874718537739253e-9, 5489.1344964229875, [185.17691930964048, 690.5865637437571, 321.0696081178872])\n",
      "(cvg, oldprss, φ) = (2.3849695176077213e-10, 5489.134470672978, [185.17997656793875, 690.6026546121702, 321.0838953741613])\n"
     ]
    },
    {
     "data": {
      "text/plain": [
       "283.9684679762638"
      ]
     },
     "execution_count": 25,
     "metadata": {},
     "output_type": "execute_result"
    }
   ],
   "source": [
    "omixed = NLmixedModel(logisgrowth, groupby(Orange, :tree), :circumference, params(ofixed));\n",
    "objective(pnls!(omixed, verbose=true))"
   ]
  },
  {
   "cell_type": "code",
   "execution_count": 26,
   "metadata": {},
   "outputs": [
    {
     "data": {
      "text/plain": [
       "(259.9416188441591, [3.4315183328653402, -2.71632364140438, -5.7950218864731315, 6.24985021606303e-5, 9.717036816618956e-6, 3.883325865577966e-7], :ROUNDOFF_LIMITED)"
      ]
     },
     "execution_count": 26,
     "metadata": {},
     "output_type": "execute_result"
    }
   ],
   "source": [
    "opt = NLopt.Opt(:LN_BOBYQA, 6)\n",
    "obj(x, g) = objective(pnls!(NLreg.setθ!(omixed, x)))\n",
    "min_objective!(opt, obj)\n",
    "lower_bounds!(opt, [0.0, -Inf, -Inf, 0.0, -Inf, 0.0])\n",
    "optf, optx, ret = optimize(opt, omixed.θ)"
   ]
  },
  {
   "cell_type": "markdown",
   "metadata": {},
   "source": [
    "Notice that the estimated covariance of the random-effects is essentially singular."
   ]
  },
  {
   "cell_type": "code",
   "execution_count": 27,
   "metadata": {},
   "outputs": [
    {
     "data": {
      "text/plain": [
       "3×3 LowerTriangular{Float64,Array{Float64,2}}:\n",
       "  3.43152   ⋅           ⋅        \n",
       " -2.71632  6.24985e-5   ⋅        \n",
       " -5.79502  9.71704e-6  3.88333e-7"
      ]
     },
     "execution_count": 27,
     "metadata": {},
     "output_type": "execute_result"
    }
   ],
   "source": [
    "omixed.λ"
   ]
  },
  {
   "cell_type": "markdown",
   "metadata": {},
   "source": [
    "In, fact the covariance matrix for the random effect is more-or-less a rank 1 matrix, instead of rank 3.\n",
    "This should not be surprising because there is only date from 5 trees.\n",
    "Expecting to estimate a total of 7 variance-covariance parameters and 3 fixed-effects parameters from data on only 5 trees is optimistic."
   ]
  },
  {
   "cell_type": "markdown",
   "metadata": {},
   "source": [
    "For the record, the estimates of the fixed-effects parameters are"
   ]
  },
  {
   "cell_type": "code",
   "execution_count": 28,
   "metadata": {},
   "outputs": [
    {
     "data": {
      "text/plain": [
       "3-element Array{Float64,1}:\n",
       " 193.24012197656984\n",
       " 735.3113198833935 \n",
       " 362.12237344029967"
      ]
     },
     "execution_count": 28,
     "metadata": {},
     "output_type": "execute_result"
    }
   ],
   "source": [
    "omixed.φ"
   ]
  },
  {
   "cell_type": "markdown",
   "metadata": {},
   "source": [
    "and the estimate of $\\sigma$ is"
   ]
  },
  {
   "cell_type": "code",
   "execution_count": 29,
   "metadata": {},
   "outputs": [
    {
     "data": {
      "text/plain": [
       "7.428378899804974"
      ]
     },
     "execution_count": 29,
     "metadata": {},
     "output_type": "execute_result"
    }
   ],
   "source": [
    "dispersion(omixed)"
   ]
  },
  {
   "cell_type": "markdown",
   "metadata": {},
   "source": [
    "The modes of the spherical random effects are"
   ]
  },
  {
   "cell_type": "code",
   "execution_count": 30,
   "metadata": {},
   "outputs": [
    {
     "data": {
      "text/plain": [
       "3×5 Array{Float64,2}:\n",
       " -6.97096      7.36877     -8.83959      9.33449     -0.8927     \n",
       " -5.39391e-5  -7.68977e-5   8.75173e-6  -5.60133e-6   0.000127686\n",
       "  4.6132e-7    3.89683e-7   7.88651e-8  -2.22545e-7  -7.07323e-7 "
      ]
     },
     "execution_count": 30,
     "metadata": {},
     "output_type": "execute_result"
    }
   ],
   "source": [
    "omixed.u"
   ]
  },
  {
   "cell_type": "markdown",
   "metadata": {},
   "source": [
    "or, on the original scale of `Asym`, `xmid`, and `scal`"
   ]
  },
  {
   "cell_type": "code",
   "execution_count": 31,
   "metadata": {},
   "outputs": [
    {
     "data": {
      "text/plain": [
       "3×5 Array{Float64,2}:\n",
       " -23.921    25.2861  -30.3332   32.0315  -3.06332\n",
       "  18.9354  -20.016    24.0112  -25.3555   2.42486\n",
       "  40.3969  -42.7022   51.2256  -54.0936   5.17322"
      ]
     },
     "execution_count": 31,
     "metadata": {},
     "output_type": "execute_result"
    }
   ],
   "source": [
    "omixed.λ * omixed.u"
   ]
  },
  {
   "cell_type": "markdown",
   "metadata": {},
   "source": [
    "## Theophylline"
   ]
  },
  {
   "cell_type": "code",
   "execution_count": 32,
   "metadata": {},
   "outputs": [
    {
     "data": {
      "text/html": [
       "<table class=\"data-frame\"><thead><tr><th></th><th>variable</th><th>mean</th><th>min</th><th>median</th><th>max</th><th>nunique</th><th>nmissing</th><th>eltype</th></tr><tr><th></th><th>Symbol</th><th>Union…</th><th>Any</th><th>Union…</th><th>Any</th><th>Union…</th><th>Nothing</th><th>DataType</th></tr></thead><tbody><p>5 rows × 8 columns</p><tr><th>1</th><td>Subj</td><td></td><td>S01</td><td></td><td>S12</td><td>12</td><td></td><td>String</td></tr><tr><th>2</th><td>Wt</td><td>69.5833</td><td>54.6</td><td>70.5</td><td>86.4</td><td></td><td></td><td>Float64</td></tr><tr><th>3</th><td>dose</td><td>4.62583</td><td>3.1</td><td>4.53</td><td>5.86</td><td></td><td></td><td>Float64</td></tr><tr><th>4</th><td>time</td><td>5.89462</td><td>0.0</td><td>3.53</td><td>24.65</td><td></td><td></td><td>Float64</td></tr><tr><th>5</th><td>conc</td><td>4.96045</td><td>0.0</td><td>5.275</td><td>11.4</td><td></td><td></td><td>Float64</td></tr></tbody></table>"
      ],
      "text/latex": [
       "\\begin{tabular}{r|cccccccc}\n",
       "\t& variable & mean & min & median & max & nunique & nmissing & eltype\\\\\n",
       "\t\\hline\n",
       "\t& Symbol & Union… & Any & Union… & Any & Union… & Nothing & DataType\\\\\n",
       "\t\\hline\n",
       "\t1 & Subj &  & S01 &  & S12 & 12 &  & String \\\\\n",
       "\t2 & Wt & 69.5833 & 54.6 & 70.5 & 86.4 &  &  & Float64 \\\\\n",
       "\t3 & dose & 4.62583 & 3.1 & 4.53 & 5.86 &  &  & Float64 \\\\\n",
       "\t4 & time & 5.89462 & 0.0 & 3.53 & 24.65 &  &  & Float64 \\\\\n",
       "\t5 & conc & 4.96045 & 0.0 & 5.275 & 11.4 &  &  & Float64 \\\\\n",
       "\\end{tabular}\n"
      ],
      "text/plain": [
       "5×8 DataFrame. Omitted printing of 1 columns\n",
       "│ Row │ variable │ mean    │ min  │ median │ max   │ nunique │ nmissing │\n",
       "│     │ \u001b[90mSymbol\u001b[39m   │ \u001b[90mUnion…\u001b[39m  │ \u001b[90mAny\u001b[39m  │ \u001b[90mUnion…\u001b[39m │ \u001b[90mAny\u001b[39m   │ \u001b[90mUnion…\u001b[39m  │ \u001b[90mNothing\u001b[39m  │\n",
       "├─────┼──────────┼─────────┼──────┼────────┼───────┼─────────┼──────────┤\n",
       "│ 1   │ Subj     │         │ S01  │        │ S12   │ 12      │          │\n",
       "│ 2   │ Wt       │ 69.5833 │ 54.6 │ 70.5   │ 86.4  │         │          │\n",
       "│ 3   │ dose     │ 4.62583 │ 3.1  │ 4.53   │ 5.86  │         │          │\n",
       "│ 4   │ time     │ 5.89462 │ 0.0  │ 3.53   │ 24.65 │         │          │\n",
       "│ 5   │ conc     │ 4.96045 │ 0.0  │ 5.275  │ 11.4  │         │          │"
      ]
     },
     "execution_count": 32,
     "metadata": {},
     "output_type": "execute_result"
    }
   ],
   "source": [
    "Theo = CSV.read(joinpath(datadir, \"Theophylline.csv\"));\n",
    "describe(Theo)"
   ]
  },
  {
   "cell_type": "markdown",
   "metadata": {},
   "source": [
    "Each subject received a single, oral dose at time 0.  A one-compartment model for these data can be expressed in terms of `lk`, the log of the elimination rate constant, `lka`, the log of the absorption rate constant, and `lV`, the log of the effective volume of distribution as"
   ]
  },
  {
   "cell_type": "code",
   "execution_count": 33,
   "metadata": {},
   "outputs": [
    {
     "data": {
      "text/plain": [
       "sdOral1C (generic function with 1 method)"
      ]
     },
     "execution_count": 33,
     "metadata": {},
     "output_type": "execute_result"
    }
   ],
   "source": [
    "function sdOral1C(φ, data)\n",
    "    k  = exp(φ[1])    # elimination rate constant from lk\n",
    "    ka = exp(φ[2])    # absorption rate constant from lka\n",
    "    V  = exp(φ[3])    # volume of distribution from lV\n",
    "    t  = data.time\n",
    "    @. (data.dose/V) * (ka/(ka - k)) * (exp(-k*t) - exp(-ka*t))\n",
    "end"
   ]
  },
  {
   "cell_type": "code",
   "execution_count": 34,
   "metadata": {},
   "outputs": [
    {
     "name": "stdout",
     "output_type": "stream",
     "text": [
      "(cvg, oldrss, φ) = (0.7853356271545054, 715.6711644323042, [-2.5, 0.5, -1.0])\n",
      "(cvg, oldrss, φ) = (0.14274745094116054, 280.1524269431178, [-2.5163796453795224, 0.4178478303222412, -0.7597743655417365])\n",
      "(cvg, oldrss, φ) = (0.0025774759291832977, 274.4509457286508, [-2.5231736672520815, 0.39839314053529373, -0.7250618599859671])\n",
      "(cvg, oldrss, φ) = (6.49494920608347e-5, 274.449135628282, [-2.52429096531231, 0.39930574924190987, -0.7239983016514161])\n",
      "(cvg, oldrss, φ) = (5.963695719867695e-6, 274.44913457677944, [-2.52423410870312, 0.3992193504126945, -0.7240261939831345])\n"
     ]
    },
    {
     "data": {
      "text/plain": [
       "Nonlinear regression model (NLregModel)\n",
       "\n",
       " Residual sum of squares: 274.44913457677944\n",
       "\n",
       "──────────────────────────────────\n",
       "      Estimate  Std.Error  t value\n",
       "──────────────────────────────────\n",
       "lk   -2.52423    0.110347   -22.88\n",
       "lka   0.399219   0.117537     3.40\n",
       "lV   -0.724026   0.04858    -14.90\n",
       "──────────────────────────────────\n"
      ]
     },
     "execution_count": 34,
     "metadata": {},
     "output_type": "execute_result"
    }
   ],
   "source": [
    "tfixed = fit!(NLregModel(sdOral1C, Theo, (lk = -2.5, lka = 0.5, lV = -1.0), :conc), verbose=true)"
   ]
  },
  {
   "cell_type": "code",
   "execution_count": 38,
   "metadata": {},
   "outputs": [
    {
     "name": "stdout",
     "output_type": "stream",
     "text": [
      "(cvg, oldprss, φ) = (3.740164584359218, 274.44913457677956, [-2.52423410870312, 0.3992193504126945, -0.7240261939831345])\n",
      "(cvg, oldprss, φ) = (0.2538644283762077, 65.45355317646988, [-2.539724608346645, 0.5159034644310972, -0.735849519021081])\n",
      "(cvg, oldprss, φ) = (0.045903458732935436, 54.586945808304264, [-2.427056127701912, 0.42264106959083503, -0.7797569538875166])\n",
      "(cvg, oldprss, φ) = (0.006322750981342246, 53.0249011390628, [-2.4436478745301433, 0.4733461541547802, -0.7744955485066873])\n",
      "(cvg, oldprss, φ) = (0.002582764801759987, 52.864652255324074, [-2.435048274003457, 0.45020283172398856, -0.7794250917666978])\n",
      "(cvg, oldprss, φ) = (0.0006327381846407471, 52.795970165312205, [-2.4384625732558014, 0.46535316899351764, -0.7775831980923442])\n",
      "(cvg, oldprss, φ) = (0.00027356312342152636, 52.78429704906995, [-2.43622337962098, 0.4570052863430945, -0.7788038848180524])\n",
      "(cvg, oldprss, φ) = (8.583842316351474e-5, 52.77795206777611, [-2.437408899420888, 0.46215948798151774, -0.7781574263693264])\n",
      "(cvg, oldprss, φ) = (3.310500456828244e-5, 52.77623050888629, [-2.436665428123916, 0.45915951184099263, -0.7785625698442873])\n",
      "(cvg, oldprss, φ) = (1.1320226262873616e-5, 52.7755054725764, [-2.4370925509915153, 0.4609767433984122, -0.7783296404700465])\n",
      "(cvg, oldprss, φ) = (4.166084208690341e-6, 52.775270317428706, [-2.436832119978349, 0.45989944472225447, -0.7784716079981513])\n",
      "(cvg, oldprss, φ) = (1.4678905887416374e-6, 52.775180985250685, [-2.436985823974817, 0.46054715000801294, -0.7783877966153658])\n",
      "(cvg, oldprss, φ) = (5.309469958957166e-7, 52.775150101760175, [-2.4368931852080404, 0.460160777166357, -0.7784383026191438])\n",
      "(cvg, oldprss, φ) = (1.8906717758579095e-7, 52.7751388032071, [-2.4369483603299487, 0.460392410560605, -0.7784082185569826])\n",
      "(cvg, oldprss, φ) = (6.796038931561622e-8, 52.775134807143644, [-2.436915252866619, 0.4602539391856216, -0.7784262692659518])\n",
      "(cvg, oldprss, φ) = (2.4291826801375235e-8, 52.775133364891424, [-2.4369350336634126, 0.4603368647233908, -0.7784154840874828])\n",
      "(cvg, oldprss, φ) = (8.712108298702007e-9, 52.77513285062661, [-2.4369231838369796, 0.4602872545411873, -0.7784219448913055])\n",
      "(cvg, oldprss, φ) = (3.118270004905768e-9, 52.775132665919514, [-2.4369302715899543, 0.46031695256043065, -0.7784180804337332])\n",
      "(cvg, oldprss, φ) = (1.1174461146304609e-9, 52.775132599866176, [-2.43692602817482, 0.4602991810743527, -0.778420394054928])\n",
      "(cvg, oldprss, φ) = (4.001537141356427e-10, 52.775132576183296, [-2.436928567282237, 0.46030981804227483, -0.7784190096608379])\n"
     ]
    },
    {
     "data": {
      "text/plain": [
       "393.57025145060913"
      ]
     },
     "execution_count": 38,
     "metadata": {},
     "output_type": "execute_result"
    }
   ],
   "source": [
    "tmixed = NLmixedModel(sdOral1C, groupby(Theo, :Subj), :conc, params(tfixed));\n",
    "objective(pnls!(tmixed, verbose=true))"
   ]
  },
  {
   "cell_type": "code",
   "execution_count": 39,
   "metadata": {},
   "outputs": [
    {
     "data": {
      "text/plain": [
       "(346.6272637900606, [0.1904026843870456, 0.015428917813319794, 0.17674043831369401, 0.957689294185729, -0.03916097637545407, 0.0], :ROUNDOFF_LIMITED)"
      ]
     },
     "execution_count": 39,
     "metadata": {},
     "output_type": "execute_result"
    }
   ],
   "source": [
    "obj(x,g) = objective(pnls!(NLreg.setθ!(tmixed, x)))\n",
    "min_objective!(opt, obj)\n",
    "optf, optx, ret = optimize(opt, tmixed.θ)"
   ]
  },
  {
   "cell_type": "markdown",
   "metadata": {},
   "source": [
    "The value of the objective, which is on the deviance scale of negative twice the log-likelihood, corresponds to a log-likelihood of"
   ]
  },
  {
   "cell_type": "code",
   "execution_count": 40,
   "metadata": {},
   "outputs": [
    {
     "data": {
      "text/plain": [
       "-173.3136318950303"
      ]
     },
     "execution_count": 40,
     "metadata": {},
     "output_type": "execute_result"
    }
   ],
   "source": [
    "-optf/2"
   ]
  },
  {
   "cell_type": "markdown",
   "metadata": {},
   "source": [
    "which is essentially the same as that in Pinheiro and Bates (2000), although arrived at by a very different optimization mechanism.\n",
    "\n",
    "The estimates of the fixed-effects parameters"
   ]
  },
  {
   "cell_type": "code",
   "execution_count": 41,
   "metadata": {},
   "outputs": [
    {
     "data": {
      "text/plain": [
       "3-element Array{Float64,1}:\n",
       " -2.433144119963929  \n",
       "  0.45265253825801366\n",
       " -0.7814700851185019 "
      ]
     },
     "execution_count": 41,
     "metadata": {},
     "output_type": "execute_result"
    }
   ],
   "source": [
    "tmixed.φ"
   ]
  },
  {
   "cell_type": "markdown",
   "metadata": {},
   "source": [
    "match those from the previous analysis.\n",
    "\n",
    "As for model `omixed` the estimate of the covariance matrix of the random effects, based on"
   ]
  },
  {
   "cell_type": "code",
   "execution_count": 42,
   "metadata": {},
   "outputs": [
    {
     "data": {
      "text/plain": [
       "3×3 LowerTriangular{Float64,Array{Float64,2}}:\n",
       " 0.190403     ⋅         ⋅ \n",
       " 0.0154289   0.957689   ⋅ \n",
       " 0.17674    -0.039161  0.0"
      ]
     },
     "execution_count": 42,
     "metadata": {},
     "output_type": "execute_result"
    }
   ],
   "source": [
    "tmixed.λ"
   ]
  },
  {
   "cell_type": "markdown",
   "metadata": {},
   "source": [
    "will be rank-deficient - in this case it will be rank 2."
   ]
  },
  {
   "cell_type": "code",
   "execution_count": 43,
   "metadata": {},
   "outputs": [
    {
     "data": {
      "text/plain": [
       "3-element Array{Float64,1}:\n",
       " 0.12948367386045226\n",
       " 0.6513627702893523 \n",
       " 0.1231077045107887 "
      ]
     },
     "execution_count": 43,
     "metadata": {},
     "output_type": "execute_result"
    }
   ],
   "source": [
    "rowlengths = [norm(view(tmixed.λ, i, 1:i)) for i in 1:3];\n",
    "dispersion(tmixed) .* rowlengths  # standard deviations of the random effects"
   ]
  },
  {
   "cell_type": "markdown",
   "metadata": {},
   "source": [
    "and the correlation matrix is"
   ]
  },
  {
   "cell_type": "code",
   "execution_count": 44,
   "metadata": {},
   "outputs": [
    {
     "data": {
      "text/plain": [
       "3×3 Array{Float64,2}:\n",
       " 1.0         0.0161085   0.976321\n",
       " 0.0161085   1.0        -0.200572\n",
       " 0.976321   -0.200572    1.0     "
      ]
     },
     "execution_count": 44,
     "metadata": {},
     "output_type": "execute_result"
    }
   ],
   "source": [
    "ρfac = ldiv!(Diagonal(rowlengths), copy(tmixed.λ))\n",
    "ρfac * ρfac'"
   ]
  },
  {
   "cell_type": "markdown",
   "metadata": {},
   "source": [
    "Note that one can't tell easily from the values in the correlation matrix that it is rank deficient."
   ]
  }
 ],
 "metadata": {
  "kernelspec": {
   "display_name": "Julia 1.2.0-rc2",
   "language": "julia",
   "name": "julia-1.2"
  },
  "language_info": {
   "file_extension": ".jl",
   "mimetype": "application/julia",
   "name": "julia",
   "version": "1.2.0"
  }
 },
 "nbformat": 4,
 "nbformat_minor": 4
}
