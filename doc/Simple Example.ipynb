{
 "metadata": {
  "language": "Julia",
  "name": ""
 },
 "nbformat": 3,
 "nbformat_minor": 0,
 "worksheets": [
  {
   "cells": [
    {
     "cell_type": "heading",
     "level": 1,
     "metadata": {},
     "source": [
      "A simple example of fitting a nonlinear regression and nonlinear mixed-effects model"
     ]
    },
    {
     "cell_type": "markdown",
     "metadata": {},
     "source": [
      "First we load the `NLreg` package and and the `DataFrames` package. The `readtable` function in creates a `DataFrame` from a comma-separated or tab-separated file's contents.\n",
      "The file can be compressed, as shown here."
     ]
    },
    {
     "cell_type": "code",
     "collapsed": false,
     "input": [
      "using DataFrames,NLreg\n",
      "const sd1 = readtable(Pkg.dir(\"NLreg\",\"data\",\"sd1.csv.gz\"));\n"
     ],
     "language": "python",
     "metadata": {},
     "outputs": []
    },
    {
     "cell_type": "markdown",
     "metadata": {},
     "source": [
      "Nonlinear regression models are represented as types in the `NLreg` package.  The type can implement several constructors.  Here we generate a `BolusSD1` model from a formula expression and a data frame."
     ]
    },
    {
     "cell_type": "code",
     "collapsed": false,
     "input": [
      "m = BolusSD1(:(CONC ~ TIME), sd1);"
     ],
     "language": "python",
     "metadata": {},
     "outputs": []
    },
    {
     "cell_type": "markdown",
     "metadata": {},
     "source": [
      "The formula indicates that the response is `CONC` and the first (and only) covariate is `TIME`."
     ]
    },
    {
     "cell_type": "heading",
     "level": 2,
     "metadata": {},
     "source": [
      "Fitting a nonlinear regression model"
     ]
    },
    {
     "cell_type": "markdown",
     "metadata": {},
     "source": [
      "A nonlinear least squares fit is represented by the type `NonlinearLS`, which is constructed from a nonlinear regression model and, optionally, initial values for the parameters."
     ]
    },
    {
     "cell_type": "markdown",
     "metadata": {},
     "source": [
      "If initial values for the parameters are not given the model's `initpars` method is used to generate initial values."
     ]
    },
    {
     "cell_type": "code",
     "collapsed": false,
     "input": [
      "show(initpars(m))"
     ],
     "language": "python",
     "metadata": {},
     "outputs": [
      {
       "output_type": "stream",
       "stream": "stdout",
       "text": [
        "[0."
       ]
      },
      {
       "output_type": "stream",
       "stream": "stdout",
       "text": [
        "9265302850601753,0.2793108696162248]"
       ]
      }
     ],
     "prompt_number": 1
    },
    {
     "cell_type": "markdown",
     "metadata": {},
     "source": [
      "The `gnfit` function fits the model using the Gauss-Newton algorithm.  An optional second argument determines if verbose output is generated."
     ]
    },
    {
     "cell_type": "code",
     "collapsed": false,
     "input": [
      "nl = gnfit(NonlinearLS(m),true)"
     ],
     "language": "python",
     "metadata": {},
     "outputs": [
      {
       "output_type": "stream",
       "stream": "stdout",
       "text": [
        "Iteration:  1"
       ]
      },
      {
       "output_type": "stream",
       "stream": "stdout",
       "text": [
        ", rss = 122.661, cvg = 0.0980845 at [0.92653,0.279311]\n",
        "   Incr: [0.21725,-0.0428423]  f = 1.0, rss = 110.69\n",
        "Iteration:  2, rss = 110.69, cvg = 0.00081764 at [1.14378,0.236469]\n",
        "   Incr: [-0.00211657,0.00838402]  f = 1.0, rss = 110.598\n",
        "Iteration:  3, rss = 110.598, cvg = 2.64837e-6 at [1.14166,0.244853]\n",
        "   Incr: [0.00119367,0.000779098]  f = 1.0, rss = 110.597\n",
        "Iteration:  4, rss = 110.597, cvg = 1.086e-8 at [1.14286,0.245632]\n",
        "   Incr: [9.1389e-5,5.07036e-5]  f = 1.0, rss = 110.597\n",
        "Iteration:  5, rss = 110.597, cvg = 4.41408e-11 at [1.14295,0.245682]\n",
        "   Incr: [5.83282e-6,3.23308e-6]  f = 1.0, rss = 110.597\n",
        "\n"
       ]
      },
      {
       "metadata": {},
       "output_type": "pyout",
       "prompt_number": 2,
       "text": [
        "Nonlinear least squares fit to 580 observations\n",
        "\n",
        "     Estimate Std.Error t value Pr(>|t|)\n",
        "V     1.14295  0.049565 23.0596  < eps()\n",
        "K    0.245682  0.020241 12.1378  < eps()\n",
        "\n",
        "Residual sum of squares at estimates: 110.597\n",
        "Residual standard error = 0.43743 on 578 degrees of freedom"
       ]
      }
     ],
     "prompt_number": 2
    },
    {
     "cell_type": "markdown",
     "metadata": {},
     "source": [
      "There are several extractor methods such as `coef`, `coeftable`, `deviance`, `pnames`, `stderr` and `vcov` for this type."
     ]
    },
    {
     "cell_type": "code",
     "collapsed": false,
     "input": [
      "coeftable(nl)"
     ],
     "language": "python",
     "metadata": {},
     "outputs": [
      {
       "metadata": {},
       "output_type": "pyout",
       "prompt_number": 3,
       "text": [
        "     Estimate Std.Error t value Pr(>|t|)\n",
        "V     1.14295  0.049565 23.0596  < eps()\n",
        "K    0.245682  0.020241 12.1378  < eps()\n"
       ]
      }
     ],
     "prompt_number": 3
    },
    {
     "cell_type": "code",
     "collapsed": false,
     "input": [
      "deviance(nl)  # residual sum-of-squares"
     ],
     "language": "python",
     "metadata": {},
     "outputs": [
      {
       "metadata": {},
       "output_type": "pyout",
       "prompt_number": 4,
       "text": [
        "110.59728633992346"
       ]
      }
     ],
     "prompt_number": 4
    },
    {
     "cell_type": "heading",
     "level": 2,
     "metadata": {},
     "source": [
      "Fitting a simple nonlinear mixed-effects model"
     ]
    },
    {
     "cell_type": "markdown",
     "metadata": {},
     "source": [
      "A simple nonlinear mixed-effects model has a random effect for each parameter for each group (e.g. subject).  Uncorrelated random effects are indicated by specifying a `Diagonal` $\\Lambda$ matrix.  Correlated random effects user a `Triangular` $\\Lambda$ matrix.  The model form and initial estimates of the fixed-effects parameters can be taken from a fitted `NonlinearLS` object."
     ]
    },
    {
     "cell_type": "code",
     "collapsed": false,
     "input": [
      "nm = NLreg.fit(SimpleNLMM(nl,vector(sd1[:ID]),Diagonal))"
     ],
     "language": "python",
     "metadata": {},
     "outputs": [
      {
       "metadata": {},
       "output_type": "pyout",
       "prompt_number": 6,
       "text": [
        "Simple, nonlinear mixed-effects model fit by Laplace approximation\n",
        " logLik: -102.527190, deviance: 205.054379\n",
        "\n",
        " Variance components:\n",
        "                Variance    Std.Dev.\n",
        " V              0.494279    0.703050\n",
        " K              0.013330    0.115457\n",
        " Residual       0.023797    0.154264\n",
        " Number of obs: 580; levels of grouping factor: 200\n",
        "\n",
        "Fixed effects parameters:\n",
        "     Estimate\n",
        "V     1.19333\n",
        "K    0.294698\n",
        "\n"
       ]
      }
     ],
     "prompt_number": 6
    },
    {
     "cell_type": "code",
     "collapsed": false,
     "input": [
      "nm1 = NLreg.fit(SimpleNLMM(nl,vector(sd1[:ID]),Triangular))"
     ],
     "language": "python",
     "metadata": {},
     "outputs": [
      {
       "metadata": {},
       "output_type": "pyout",
       "prompt_number": 7,
       "text": [
        "Simple, nonlinear mixed-effects model fit by Laplace approximation\n",
        " logLik: -102.167404, deviance: 204.334808\n",
        "\n",
        " Variance components:\n",
        "                Variance    Std.Dev.\n",
        " V              0.484640    0.696161\n",
        " K              0.013369    0.115622\n",
        " Residual       0.023999    0.154916\n",
        " Number of obs: 580; levels of grouping factor: 200\n",
        "\n",
        "Fixed effects parameters:\n",
        "     Estimate\n",
        "V     1.19672\n",
        "K    0.299901\n",
        "\n"
       ]
      }
     ],
     "prompt_number": 7
    },
    {
     "cell_type": "markdown",
     "metadata": {},
     "source": [
      "Although not currently shown in the output, the within-subject correlation of the random effects for this model fit is `-0.091`.  A likelihood ratio test comparting `nm` versus `nm1` has a p-value of 39.6% from which we would conclude that the more complex model, `nm1`, does not provide a sufficiently better fit to justify the additional parameter."
     ]
    }
   ],
   "metadata": {}
  }
 ]
}