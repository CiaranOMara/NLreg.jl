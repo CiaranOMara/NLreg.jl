{
 "metadata": {
  "language": "Julia",
  "name": ""
 },
 "nbformat": 3,
 "nbformat_minor": 0,
 "worksheets": [
  {
   "cells": [
    {
     "cell_type": "heading",
     "level": 1,
     "metadata": {},
     "source": [
      "A simple example of fitting a nonlinear regression and nonlinear mixed-effects model"
     ]
    },
    {
     "cell_type": "markdown",
     "metadata": {},
     "source": [
      "First we load the `NLreg` package and and the `DataFrames` package. The `readtable` function in creates a `DataFrame` from a comma-separated or tab-separated file's contents.\n",
      "The file can be compressed, as shown here."
     ]
    },
    {
     "cell_type": "code",
     "collapsed": false,
     "input": [
      "using DataFrames,NLreg\n",
      "const sd1 = readtable(Pkg.dir(\"NLreg\",\"data\",\"sd1.csv.gz\"))\n"
     ],
     "language": "python",
     "metadata": {},
     "outputs": [
      {
       "metadata": {},
       "output_type": "pyout",
       "prompt_number": 1,
       "text": [
        "580x4 DataFrame:\n",
        "           ID TIME CMT     CONC\n",
        "[1,]        1  1.0   1  0.34051\n",
        "[2,]        1  2.0   1  0.32086\n",
        "[3,]        1  5.0   1  0.27354\n",
        "[4,]        2  1.5   1  0.56903\n",
        "[5,]        2  6.0   1  0.21082\n",
        "[6,]        2  9.0   1  0.15317\n",
        "[7,]        3  0.5   1   0.7574\n",
        "[8,]        3  4.0   1  0.24331\n",
        "[9,]        3  7.0   1 0.058185\n",
        "[10,]       4  1.0   1  0.48332\n",
        "[11,]       4  2.0   1  0.33927\n",
        "[12,]       4  5.0   1 0.048025\n",
        "[13,]       5  1.5   1  0.87606\n",
        "[14,]       5  6.0   1  0.28921\n",
        "[15,]       5  9.0   1   0.1743\n",
        "[16,]       6  0.5   1   1.0068\n",
        "[17,]       6  4.0   1  0.45434\n",
        "[18,]       6  7.0   1  0.11297\n",
        "[19,]       7  1.0   1  0.32864\n",
        "[20,]       7  2.0   1  0.35299\n",
        "  :\n",
        "[561,]    194  1.5   1  0.68308\n",
        "[562,]    194  6.0   1  0.44619\n",
        "[563,]    194  9.0   1  0.55203\n",
        "[564,]    195  0.5   1     2.24\n",
        "[565,]    195  4.0   1  0.77199\n",
        "[566,]    195  7.0   1  0.27317\n",
        "[567,]    196  1.0   1  0.43453\n",
        "[568,]    196  2.0   1  0.17825\n",
        "[569,]    197  1.5   1  0.49596\n",
        "[570,]    197  6.0   1  0.25903\n",
        "[571,]    197  9.0   1   0.3598\n",
        "[572,]    198  0.5   1   1.0686\n",
        "[573,]    198  4.0   1  0.87058\n",
        "[574,]    198  7.0   1  0.14702\n",
        "[575,]    199  1.0   1  0.38648\n",
        "[576,]    199  2.0   1  0.15785\n",
        "[577,]    199  5.0   1 0.061883\n",
        "[578,]    200  1.5   1  0.55079\n",
        "[579,]    200  6.0   1 0.060114\n",
        "[580,]    200  9.0   1 0.011629\n"
       ]
      }
     ],
     "prompt_number": 1
    },
    {
     "cell_type": "markdown",
     "metadata": {},
     "source": [
      "Nonlinear regression models are represented as types in the `NLreg` package.  The type can implement several constructors.  Here we generate a `BolusSD1` model from a formula expression and a data frame."
     ]
    },
    {
     "cell_type": "code",
     "collapsed": false,
     "input": [
      "m = BolusSD1(:(CONC ~ TIME), sd1);"
     ],
     "language": "python",
     "metadata": {},
     "outputs": [],
     "prompt_number": 1
    },
    {
     "cell_type": "markdown",
     "metadata": {},
     "source": [
      "The formula indicates that the response is `CONC` and the first (and only) covariate is `TIME`."
     ]
    },
    {
     "cell_type": "heading",
     "level": 2,
     "metadata": {},
     "source": [
      "Fitting a nonlinear regression model"
     ]
    },
    {
     "cell_type": "markdown",
     "metadata": {},
     "source": [
      "A nonlinear least squares fit is represented by the type `NonlinearLS`, which is constructed from a nonlinear regression model and, optionally, initial values for the parameters."
     ]
    },
    {
     "cell_type": "code",
     "collapsed": false,
     "input": [
      "methods(NonlinearLS)"
     ],
     "language": "python",
     "metadata": {},
     "outputs": [
      {
       "metadata": {},
       "output_type": "pyout",
       "prompt_number": 2,
       "text": [
        "# 3 methods for generic function \"NonlinearLS\":\n",
        "NonlinearLS{T<:FloatingPoint}(m::NLregMod{T<:FloatingPoint},pars::Array{T<:FloatingPoint,1},incr::Array{T<:FloatingPoint,1},ch::Cholesky{T<:FloatingPoint},rss::T<:FloatingPoint,tolsqr::T<:FloatingPoint,minfac::T<:FloatingPoint,mxiter::Int64,fit::Bool)\n",
        "NonlinearLS{T<:FloatingPoint}(m::NLregMod{T<:FloatingPoint},init::Array{T<:FloatingPoint,1}) at /home/bates/.julia/NLreg/src/nlreg.jl:21\n",
        "NonlinearLS{T<:FloatingPoint}(m::NLregMod{T<:FloatingPoint}) at /home/bates/.julia/NLreg/src/nlreg.jl:25"
       ]
      }
     ],
     "prompt_number": 2
    },
    {
     "cell_type": "markdown",
     "metadata": {},
     "source": [
      "If initial values for the parameters are not given the model's `initpars` method is used to generate initial values."
     ]
    },
    {
     "cell_type": "code",
     "collapsed": false,
     "input": [
      "show(initpars(m))"
     ],
     "language": "python",
     "metadata": {},
     "outputs": [
      {
       "output_type": "stream",
       "stream": "stdout",
       "text": [
        "[0."
       ]
      },
      {
       "output_type": "stream",
       "stream": "stdout",
       "text": [
        "9265302850601753,0.2793108696162248]"
       ]
      }
     ],
     "prompt_number": 3
    },
    {
     "cell_type": "markdown",
     "metadata": {},
     "source": [
      "The `gnfit` function fits the model using the Gauss-Newton algorithm.  An optional second argument determines if verbose output is generated."
     ]
    },
    {
     "cell_type": "code",
     "collapsed": false,
     "input": [
      "nl = gnfit(NonlinearLS(m),true)"
     ],
     "language": "python",
     "metadata": {},
     "outputs": [
      {
       "output_type": "stream",
       "stream": "stdout",
       "text": [
        "Iteration:"
       ]
      },
      {
       "output_type": "stream",
       "stream": "stdout",
       "text": [
        "  1, rss = 122.661, cvg = 0.0980845 at [0.92653,0.279311]\n",
        "   Incr: [0.21725,-0.0428423]  f = 1.0, rss = 110.69\n",
        "Iteration:  2, rss = 110.69, cvg = 0.00081764 at [1.14378,0.236469]\n",
        "   Incr: [-0.00211657,0.00838402]  f = 1.0, rss = 110.598\n",
        "Iteration:  3, rss = 110.598, cvg = 2.64837e-6 at [1.14166,0.244853]\n",
        "   Incr: [0.00119367,0.000779098]  f = 1.0, rss = 110.597\n",
        "Iteration:  4, rss = 110.597, cvg = 1.086e-8 at [1.14286,0.245632]\n",
        "   Incr: [9.1389e-5,5.07036e-5]  f = 1.0, rss = 110.597\n",
        "Iteration:  5, rss = 110.597, cvg = 4.41408e-11 at [1.14295,0.245682]\n",
        "   Incr: [5.83282e-6,3.23308e-6]  f = 1.0, rss = 110.597\n",
        "\n"
       ]
      },
      {
       "metadata": {},
       "output_type": "pyout",
       "prompt_number": 4,
       "text": [
        "Nonlinear least squares fit to 580 observations\n",
        "\n",
        "     Estimate Std.Error t value Pr(>|t|)\n",
        "V     1.14295  0.049565 23.0596  < eps()\n",
        "K    0.245682  0.020241 12.1378  < eps()\n",
        "\n",
        "Residual sum of squares at estimates: 110.597\n",
        "Residual standard error = 0.43743 on 578 degrees of freedom"
       ]
      }
     ],
     "prompt_number": 4
    },
    {
     "cell_type": "markdown",
     "metadata": {},
     "source": [
      "There are several extractor methods such as `coef`, `coeftable`, `deviance`, `pnames`, `stderr` and `vcov` for this type."
     ]
    },
    {
     "cell_type": "code",
     "collapsed": false,
     "input": [
      "coeftable(nl)"
     ],
     "language": "python",
     "metadata": {},
     "outputs": [
      {
       "metadata": {},
       "output_type": "pyout",
       "prompt_number": 5,
       "text": [
        "     Estimate Std.Error t value Pr(>|t|)\n",
        "V     1.14295  0.049565 23.0596  < eps()\n",
        "K    0.245682  0.020241 12.1378  < eps()\n"
       ]
      }
     ],
     "prompt_number": 5
    },
    {
     "cell_type": "code",
     "collapsed": false,
     "input": [
      "deviance(nl)  # residual sum-of-squares"
     ],
     "language": "python",
     "metadata": {},
     "outputs": [
      {
       "metadata": {},
       "output_type": "pyout",
       "prompt_number": 6,
       "text": [
        "110.59728633992346"
       ]
      }
     ],
     "prompt_number": 6
    },
    {
     "cell_type": "heading",
     "level": 2,
     "metadata": {},
     "source": [
      "Fitting a simple nonlinear mixed-effects model"
     ]
    },
    {
     "cell_type": "markdown",
     "metadata": {},
     "source": [
      "A simple nonlinear mixed-effects model has a random effect for each parameter for each group (e.g. subject).  Uncorrelated random effects are indicated by specifying a `Diagonal` $\\Lambda$ matrix.  Correlated random effects user a `Triangular` $\\Lambda$ matrix.  The model form and initial estimates of the fixed-effects parameters can be taken from a fitted `NonlinearLS` object."
     ]
    },
    {
     "cell_type": "code",
     "collapsed": false,
     "input": [
      "nm = SimpleNLMM(deepcopy(nl.m), vector(sd1[:ID]), Diagonal(ones(2)), coef(nl))"
     ],
     "language": "python",
     "metadata": {},
     "outputs": [
      {
       "metadata": {},
       "output_type": "pyout",
       "prompt_number": 7,
       "text": [
        "Simple, nonlinear mixed-effects model fit by Laplace approximation\n",
        " logLik: -102.527190, deviance: 205.054379\n",
        "\n",
        " Variance components:\n",
        "                Variance    Std.Dev.\n",
        " V              0.494279    0.703050\n",
        " K              0.013330    0.115457\n",
        " Residual       0.023797    0.154264\n",
        " Number of obs: 580; levels of grouping factors: 200\n",
        "\n",
        "Fixed effects parameters:\n",
        "     Estimate\n",
        "V     1.19333\n",
        "K    0.294698\n",
        "\n"
       ]
      }
     ],
     "prompt_number": 7
    }
   ],
   "metadata": {}
  }
 ]
}