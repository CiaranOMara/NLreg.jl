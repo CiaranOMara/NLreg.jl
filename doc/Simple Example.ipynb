{
 "metadata": {
  "language": "Julia",
  "name": ""
 },
 "nbformat": 3,
 "nbformat_minor": 0,
 "worksheets": [
  {
   "cells": [
    {
     "cell_type": "heading",
     "level": 1,
     "metadata": {},
     "source": [
      "A simple example of fitting a nonlinear regression and nonlinear mixed-effects model"
     ]
    },
    {
     "cell_type": "markdown",
     "metadata": {},
     "source": [
      "First we load the `NLreg` package and and the `DataFrames` package. The `readtable` function in creates a `DataFrame` from a comma-separated or tab-separated file's contents.\n",
      "The file can be compressed, as shown here."
     ]
    },
    {
     "cell_type": "code",
     "collapsed": false,
     "input": [
      "using DataFrames,NLreg\n",
      "const sd1 = readtable(Pkg.dir(\"NLreg\",\"data\",\"sd1.csv.gz\"));\n"
     ],
     "language": "python",
     "metadata": {},
     "outputs": [
      {
       "output_type": "stream",
       "stream": "stderr",
       "text": [
        "\n",
        "WARNING: deprecated syntax \"x[i:]\" at /home/bates/.julia/GZip/src/GZip.jl:460.\n",
        "Use \"x[i:end]\" instead.\n",
        "\n",
        "WARNING: deprecated syntax \"x[i:]\" at /home/bates/.julia/DataFrames/src/formula.jl:58.\n",
        "Use \"x[i:end]\" instead.\n",
        "\n",
        "WARNING: deprecated syntax \"x[i:]\" at /home/bates/.julia/DataFrames/src/formula.jl:71.\n",
        "Use \"x[i:end]\" instead.\n",
        "\n",
        "WARNING: deprecated syntax \"x[i:]\" at /home/bates/.julia/DataFrames/src/formula.jl:77.\n",
        "Use \"x[i:end]\" instead.\n",
        "\n",
        "WARNING: deprecated syntax \"x[i:]\" at /home/bates/.julia/DataFrames/src/formula.jl:92.\n",
        "Use \"x[i:end]\" instead.\n",
        "\n",
        "WARNING: deprecated syntax \"x[i:]\" at /home/bates/.julia/DataFrames/src/formula.jl:106.\n",
        "Use \"x[i:end]\" instead.\n",
        "\n",
        "WARNING: deprecated syntax \"x[i:]\" at /home/bates/.julia/DataFrames/src/formula.jl:111.\n",
        "Use \"x[i:end]\" instead.\n",
        "\n",
        "WARNING: deprecated syntax \"x[i:]\" at /home/bates/.julia/DataFrames/src/formula.jl:122.\n",
        "Use \"x[i:end]\" instead.\n"
       ]
      }
     ]
    },
    {
     "cell_type": "markdown",
     "metadata": {},
     "source": [
      "Nonlinear regression models are represented as types in the `NLreg` package.  The type can implement several constructors.  Here we generate a `BolusSD1` model from a formula expression and a data frame."
     ]
    },
    {
     "cell_type": "code",
     "collapsed": false,
     "input": [
      "m = LogBolusSD1(CONC ~ TIME, sd1);"
     ],
     "language": "python",
     "metadata": {},
     "outputs": []
    },
    {
     "cell_type": "markdown",
     "metadata": {},
     "source": [
      "The formula indicates that the response is `CONC` and the first (and only) covariate is `TIME`."
     ]
    },
    {
     "cell_type": "heading",
     "level": 2,
     "metadata": {},
     "source": [
      "Fitting a nonlinear regression model"
     ]
    },
    {
     "cell_type": "markdown",
     "metadata": {},
     "source": [
      "A nonlinear least squares fit is represented by the type `NonlinearLS`, which is constructed from a nonlinear regression model and, optionally, initial values for the parameters."
     ]
    },
    {
     "cell_type": "markdown",
     "metadata": {},
     "source": [
      "If initial values for the parameters are not given the model's `initpars` method is used to generate initial values."
     ]
    },
    {
     "cell_type": "code",
     "collapsed": false,
     "input": [
      "show(initpars(m))"
     ],
     "language": "python",
     "metadata": {},
     "outputs": [
      {
       "output_type": "stream",
       "stream": "stdout",
       "text": [
        "[-"
       ]
      },
      {
       "output_type": "stream",
       "stream": "stdout",
       "text": [
        "1.2754298894369425]"
       ]
      }
     ],
     "prompt_number": 1
    },
    {
     "cell_type": "markdown",
     "metadata": {},
     "source": [
      "The `gnfit` function fits the model using the Gauss-Newton algorithm.  An optional second argument determines if verbose output is generated."
     ]
    },
    {
     "cell_type": "code",
     "collapsed": false,
     "input": [
      "pl = fit(m,true)"
     ],
     "language": "python",
     "metadata": {},
     "outputs": [
      {
       "output_type": "stream",
       "stream": "stdout",
       "text": [
        "Iteration:  1"
       ]
      },
      {
       "output_type": "stream",
       "stream": "stdout",
       "text": [
        ", rss = 111.039, cvg = 0.00367759 at [1.20139,-1.27543]\n",
        "   Incr: [-0.118075]  f = 1.0, rss = 110.6\n",
        "Iteration:  2, rss = 110.6, cvg = 2.32555e-5 at [1.14748,-1.39351]\n",
        "   Incr: [-0.00953319]  f = 1.0, rss = 110.597\n",
        "Iteration:  3, rss = 110.597, cvg = 9.82838e-8 at [1.14325,-1.40304]\n",
        "   Incr: [-0.000620877]  f = 1.0, rss = 110.597\n",
        "Iteration:  4, rss = 110.597, cvg = 3.99713e-10 at [1.14297,-1.40366]\n",
        "   Incr: [-3.95997e-5]  f = 1.0, rss = 110.597\n",
        "\n"
       ]
      },
      {
       "metadata": {},
       "output_type": "pyout",
       "prompt_number": 2,
       "text": [
        "Nonlinear least squares fit to 580 observations\n",
        "\n",
        "     Estimate Std.Error  t value Pr(>|t|)\n",
        "V     1.14296 0.0495654  23.0595  < eps()\n",
        "lK    -1.4037 0.0823867 -17.0379  < eps()\n",
        "\n",
        "Residual sum of squares at estimates: 110.597\n",
        "Residual standard error = 0.43743 on 578 degrees of freedom"
       ]
      }
     ],
     "prompt_number": 2
    },
    {
     "cell_type": "markdown",
     "metadata": {},
     "source": [
      "There are several extractor methods such as `coef`, `coeftable`, `deviance`, `pnames`, `stderr` and `vcov` for this type."
     ]
    },
    {
     "cell_type": "code",
     "collapsed": false,
     "input": [
      "coeftable(pl)"
     ],
     "language": "python",
     "metadata": {},
     "outputs": [
      {
       "metadata": {},
       "output_type": "pyout",
       "prompt_number": 3,
       "text": [
        "     Estimate Std.Error  t value Pr(>|t|)\n",
        "V     1.14296 0.0495654  23.0595  < eps()\n",
        "lK    -1.4037 0.0823867 -17.0379  < eps()\n"
       ]
      }
     ],
     "prompt_number": 3
    },
    {
     "cell_type": "code",
     "collapsed": false,
     "input": [
      "deviance(pl)  # residual sum-of-squares"
     ],
     "language": "python",
     "metadata": {},
     "outputs": [
      {
       "metadata": {},
       "output_type": "pyout",
       "prompt_number": 4,
       "text": [
        "110.5972863349011"
       ]
      }
     ],
     "prompt_number": 4
    },
    {
     "cell_type": "heading",
     "level": 2,
     "metadata": {},
     "source": [
      "Fitting a simple nonlinear mixed-effects model"
     ]
    },
    {
     "cell_type": "markdown",
     "metadata": {},
     "source": [
      "A simple nonlinear mixed-effects model has a random effect for each parameter for each group (e.g. subject).  Uncorrelated random effects are indicated by specifying a `Diagonal` $\\Lambda$ matrix.  Correlated random effects user a `Triangular` $\\Lambda$ matrix.  The model form and initial estimates of the fixed-effects parameters can be taken from a fitted `NonlinearLS` object."
     ]
    },
    {
     "cell_type": "code",
     "collapsed": false,
     "input": [
      "nm = NLreg.fit(SimpleNLMM(nl,vector(sd1[:ID]),Diagonal))"
     ],
     "language": "python",
     "metadata": {},
     "outputs": [
      {
       "metadata": {},
       "output_type": "pyout",
       "prompt_number": 6,
       "text": [
        "Simple, nonlinear mixed-effects model fit by Laplace approximation\n",
        " logLik: -102.527190, deviance: 205.054379\n",
        "\n",
        " Variance components:\n",
        "                Variance    Std.Dev.\n",
        " V              0.494279    0.703050\n",
        " K              0.013330    0.115457\n",
        " Residual       0.023797    0.154264\n",
        " Number of obs: 580; levels of grouping factor: 200\n",
        "\n",
        "Fixed effects parameters:\n",
        "     Estimate\n",
        "V     1.19333\n",
        "K    0.294698\n",
        "\n"
       ]
      }
     ],
     "prompt_number": 6
    },
    {
     "cell_type": "code",
     "collapsed": false,
     "input": [
      "nm1 = NLreg.fit(SimpleNLMM(nl,vector(sd1[:ID]),Triangular))"
     ],
     "language": "python",
     "metadata": {},
     "outputs": [
      {
       "metadata": {},
       "output_type": "pyout",
       "prompt_number": 7,
       "text": [
        "Simple, nonlinear mixed-effects model fit by Laplace approximation\n",
        " logLik: -102.167404, deviance: 204.334808\n",
        "\n",
        " Variance components:\n",
        "                Variance    Std.Dev.\n",
        " V              0.484640    0.696161\n",
        " K              0.013369    0.115622\n",
        " Residual       0.023999    0.154916\n",
        " Number of obs: 580; levels of grouping factor: 200\n",
        "\n",
        "Fixed effects parameters:\n",
        "     Estimate\n",
        "V     1.19672\n",
        "K    0.299901\n",
        "\n"
       ]
      }
     ],
     "prompt_number": 7
    },
    {
     "cell_type": "markdown",
     "metadata": {},
     "source": [
      "Although not currently shown in the output, the within-subject correlation of the random effects for this model fit is `-0.091`.  A likelihood ratio test comparting `nm` versus `nm1` has a p-value of 39.6% from which we would conclude that the more complex model, `nm1`, does not provide a sufficiently better fit to justify the additional parameter."
     ]
    }
   ],
   "metadata": {}
  }
 ]
}